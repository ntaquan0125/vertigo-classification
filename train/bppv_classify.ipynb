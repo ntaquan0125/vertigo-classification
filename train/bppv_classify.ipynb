{
  "nbformat": 4,
  "nbformat_minor": 0,
  "metadata": {
    "colab": {
      "provenance": []
    },
    "kernelspec": {
      "name": "python3",
      "display_name": "Python 3"
    },
    "language_info": {
      "name": "python"
    },
    "accelerator": "GPU",
    "gpuClass": "standard"
  },
  "cells": [
    {
      "cell_type": "code",
      "source": [
        "from google.colab import drive\n",
        "drive.mount('/content/drive')"
      ],
      "metadata": {
        "colab": {
          "base_uri": "https://localhost:8080/"
        },
        "id": "CsiBOMKkv6Hd",
        "outputId": "820f7e2a-9150-4246-e62a-f1eba1ee23e4"
      },
      "execution_count": null,
      "outputs": [
        {
          "output_type": "stream",
          "name": "stdout",
          "text": [
            "Drive already mounted at /content/drive; to attempt to forcibly remount, call drive.mount(\"/content/drive\", force_remount=True).\n"
          ]
        }
      ]
    },
    {
      "cell_type": "code",
      "source": [
        "import argparse\n",
        "import json\n",
        "import os\n",
        "import time\n",
        "\n",
        "import cv2\n",
        "import matplotlib.pyplot as plt\n",
        "import numpy as np\n",
        "import pandas as pd\n",
        "import torch\n",
        "import torch.nn as nn\n",
        "import torch.nn.functional as F\n",
        "import torch.optim as optim\n",
        "import torchvision\n",
        "\n",
        "from glob import glob\n",
        "from sklearn.metrics import precision_recall_curve, roc_curve, auc, accuracy_score, f1_score, precision_score, recall_score, confusion_matrix\n",
        "from sklearn.metrics import confusion_matrix, ConfusionMatrixDisplay\n",
        "from torch.utils.data import Dataset\n",
        "from torchvision import transforms\n",
        "from tqdm import tqdm"
      ],
      "metadata": {
        "id": "V8AvC2csst72"
      },
      "execution_count": null,
      "outputs": []
    },
    {
      "cell_type": "code",
      "source": [
        "device = torch.device(\"cuda\" if torch.cuda.is_available() else \"cpu\")\n",
        "print(device)"
      ],
      "metadata": {
        "colab": {
          "base_uri": "https://localhost:8080/"
        },
        "id": "gbjIcGJPyxHL",
        "outputId": "81036968-3e8f-4bc8-8b9a-77227f587f4d"
      },
      "execution_count": null,
      "outputs": [
        {
          "output_type": "stream",
          "name": "stdout",
          "text": [
            "cuda\n"
          ]
        }
      ]
    },
    {
      "cell_type": "code",
      "source": [
        "from sklearn.preprocessing import StandardScaler\n",
        "scaler = StandardScaler()"
      ],
      "metadata": {
        "id": "yKT_v1gv563Q"
      },
      "execution_count": null,
      "outputs": []
    },
    {
      "cell_type": "code",
      "source": [
        "transform = transforms.Compose([\n",
        "    lambda x: scaler.fit_transform(x),\n",
        "    transforms.ToTensor()\n",
        "])"
      ],
      "metadata": {
        "id": "C0y1gCzYlcAD"
      },
      "execution_count": null,
      "outputs": []
    },
    {
      "cell_type": "code",
      "source": [
        "class CustomDataset(Dataset):\n",
        "    def __init__(self, data_dir, transform=None, class_weights=None):\n",
        "        self.data_dir = data_dir\n",
        "        self.class_map = {\"Lt_Apo_BPPV\" : 0, \"Lt_Geo_BPPV\": 1, \"Lt_PC_BPPV\" : 2, \"Rt_Apo_BPPV\": 3, \"Rt_Geo_BPPV\" : 4, \"Rt_PC_BPPV\": 5}\n",
        "\n",
        "        self.data = []\n",
        "        classes = glob(self.data_dir + \"/*\")\n",
        "        for class_path in classes:\n",
        "            class_name = class_path.split(\"/\")[-1]\n",
        "            for filename in glob(class_path + \"/*.*\"):\n",
        "                data = np.load(filename)\n",
        "                if data.shape[0] < 100:\n",
        "                    continue\n",
        "                else:\n",
        "                    if class_weights is not None:\n",
        "                        class_weights /= np.max(class_weights)\n",
        "                        if np.random.uniform() < class_weights[self.class_map[class_name]]:\n",
        "                            self.data.append([filename, class_name])\n",
        "                    else:\n",
        "                        self.data.append([filename, class_name])\n",
        "        self.transform = transform\n",
        "\n",
        "    def __len__(self):\n",
        "        return len(self.data)\n",
        "\n",
        "    def _add_noise(self, data):\n",
        "        if np.random.uniform() < 0.5:\n",
        "            noise = np.random.normal(0, 1, data.shape)\n",
        "            data += noise\n",
        "        return data\n",
        "    \n",
        "    def _random_shift(self, data):\n",
        "        if np.random.uniform() < 0.8:\n",
        "            data = np.roll(data, np.random.randint(100), axis=0)\n",
        "        return data[:100, :]\n",
        "\n",
        "    def __getitem__(self, index):\n",
        "        filename, class_name = self.data[index]\n",
        "        data = np.load(filename)\n",
        "        vx = np.diff(data[:, 0], append=0).reshape(-1, 1)\n",
        "        vy = np.diff(data[:, 1], append=0).reshape(-1, 1)\n",
        "        data = np.concatenate((data, vx, vy), axis=1)\n",
        "        data = self._add_noise(data)\n",
        "        data = self._random_shift(data)\n",
        "        data = self.transform(data).float()\n",
        "\n",
        "        lr = torch.Tensor([0 if os.path.basename(filename)[13] == 'l' else 1])\n",
        "\n",
        "        action = F.one_hot(torch.Tensor([int(os.path.basename(filename)[15]) - 1]).long(), 7)\n",
        "\n",
        "        label = F.one_hot(torch.Tensor([self.class_map[class_name]]).long(), 6)\n",
        "\n",
        "        return data.squeeze(), lr, action.squeeze(), label.squeeze()"
      ],
      "metadata": {
        "id": "_fqXaG98ldtt"
      },
      "execution_count": null,
      "outputs": []
    },
    {
      "cell_type": "code",
      "source": [
        "import collections\n",
        "data_path = '/content/drive/MyDrive/Colab Notebooks/time_data'\n",
        "dataset = CustomDataset(data_path, transform)\n",
        "\n",
        "train_size = int(0.8 * len(dataset))\n",
        "val_size = int(0.05 * len(dataset))\n",
        "test_size = len(dataset) - train_size - val_size\n",
        "\n",
        "train_dataset, val_dataset, test_dataset = torch.utils.data.random_split(dataset, [train_size, val_size, test_size], generator=torch.Generator().manual_seed(0))\n",
        "\n",
        "train_classes = [torch.argmax(label).cpu().detach().numpy().item() for _, _, _, label in train_dataset]\n",
        "class_count = collections.Counter(train_classes)\n",
        "class_count = collections.OrderedDict(sorted(class_count.items()))\n",
        "class_weights = [max(class_count.values()) / v for k, v in class_count.items()]\n",
        "class_weights[1] = 0\n",
        "class_weights[0] = 0.3\n",
        "print(class_count)\n",
        "\n",
        "augmented_dataset = CustomDataset(data_path, transform, class_weights)\n",
        "train_dataset = torch.utils.data.ConcatDataset([train_dataset, augmented_dataset])\n",
        "train_classes = [torch.argmax(label).cpu().detach().numpy().item() for _, _, _, label in train_dataset]\n",
        "class_count = collections.Counter(train_classes)\n",
        "class_count = collections.OrderedDict(sorted(class_count.items()))\n",
        "print(class_count)"
      ],
      "metadata": {
        "id": "_JblYCP0lf1k"
      },
      "execution_count": null,
      "outputs": []
    },
    {
      "cell_type": "code",
      "source": [
        "train_loader = torch.utils.data.DataLoader(train_dataset, batch_size=16, shuffle=True)\n",
        "val_loader = torch.utils.data.DataLoader(val_dataset, batch_size=16, shuffle=True)\n",
        "test_loader = torch.utils.data.DataLoader(test_dataset, batch_size=16, shuffle=True)\n",
        "\n",
        "print(len(train_loader), len(val_loader), len(test_loader))"
      ],
      "metadata": {
        "id": "-KII1SDMa6V2"
      },
      "execution_count": null,
      "outputs": []
    },
    {
      "cell_type": "code",
      "source": [
        "class CNN1D(nn.Module):\n",
        "    def __init__(self, out_features):\n",
        "        super().__init__()\n",
        "        self.conv1 = nn.Conv1d(5, 64, 3, padding='same')\n",
        "        self.pool1 = nn.MaxPool1d(kernel_size=2)\n",
        "        self.conv2 = nn.Conv1d(64, 128, 3, padding='same')\n",
        "        self.pool2 = nn.MaxPool1d(kernel_size=2)\n",
        "        self.conv3 = nn.Conv1d(128, 64, 3, padding='same')\n",
        "        self.pool3 = nn.MaxPool1d(kernel_size=2)\n",
        "        self.flatten = nn.Flatten()\n",
        "        self.fc1 = nn.Linear(768 + 7 + 1, 256)\n",
        "        self.fc3 = nn.Linear(256, out_features)\n",
        "\n",
        "    def forward(self, data, lr, action):\n",
        "        x = F.relu(self.conv1(data))\n",
        "        x = self.pool1(x)\n",
        "        x = F.relu(self.conv2(x))\n",
        "        x = self.pool2(x)\n",
        "        x = F.relu(self.conv3(x))\n",
        "        x = self.pool3(x)\n",
        "        x = self.flatten(x)\n",
        "        x = torch.hstack([x, lr, action])\n",
        "        x = F.relu(self.fc1(x))\n",
        "        x = self.fc3(x)\n",
        "        return x"
      ],
      "metadata": {
        "id": "IGriJZRoqdV-"
      },
      "execution_count": null,
      "outputs": []
    },
    {
      "cell_type": "code",
      "source": [
        "model_idx = 0"
      ],
      "metadata": {
        "id": "Vu3SPLZwMZYU"
      },
      "execution_count": null,
      "outputs": []
    },
    {
      "cell_type": "code",
      "source": [
        "model = CNN1D(6).to(device)\n",
        "\n",
        "optimizer = optim.Adam(model.parameters(), lr=0.001, betas=(0.9, 0.999))\n",
        "scheduler = optim.lr_scheduler.CosineAnnealingWarmRestarts(optimizer, 1000)\n",
        "\n",
        "loss_fn = nn.CrossEntropyLoss(label_smoothing=0.1)"
      ],
      "metadata": {
        "id": "UHi6-iHusjf3"
      },
      "execution_count": null,
      "outputs": []
    },
    {
      "cell_type": "code",
      "source": [
        "train_losses, val_losses = [], []\n",
        "train_acc, val_acc = [], []\n",
        "\n",
        "for epoch in range(32):\n",
        "    train_loss = []\n",
        "    accuracy = []\n",
        "    model.train()\n",
        "    for batch_id, (data, lr, action, label) in enumerate(tqdm(train_loader)):\n",
        "        with torch.set_grad_enabled(True):\n",
        "            if torch.cuda.is_available():\n",
        "                torch.cuda.empty_cache()\n",
        "\n",
        "            batch_size = data.size(0)\n",
        "            data, label = data.to(device), label.float().to(device)\n",
        "            lr, action = lr.to(device), action.to(device)\n",
        "            data = data.transpose(1, 2)\n",
        "\n",
        "            optimizer.zero_grad()\n",
        "\n",
        "            outputs = model(data, lr, action)\n",
        "\n",
        "            loss = loss_fn(outputs, label)\n",
        "\n",
        "            loss.backward(retain_graph=True)\n",
        "            optimizer.step()\n",
        "            scheduler.step(epoch + batch_id / len(train_loader))\n",
        "\n",
        "            train_loss.append(loss.item())\n",
        "            y_pred = torch.argmax(outputs, dim=1).cpu().detach().numpy()\n",
        "            y_label = torch.argmax(label, dim=1).cpu().detach().numpy()\n",
        "\n",
        "            accuracy.append(accuracy_score(y_pred, y_label))\n",
        "\n",
        "    train_losses.append(np.mean(train_loss))\n",
        "    train_acc.append(np.mean(accuracy))\n",
        "\n",
        "    val_loss = []\n",
        "    accuracy = []\n",
        "    model.eval()\n",
        "    for batch_id, (data, lr, action, label) in enumerate(tqdm(val_loader)):\n",
        "        with torch.set_grad_enabled(False):\n",
        "            if torch.cuda.is_available():\n",
        "                torch.cuda.empty_cache()\n",
        "\n",
        "            batch_size = data.size(0)\n",
        "            data, label = data.to(device), label.float().to(device)\n",
        "            lr, action = lr.to(device), action.to(device)\n",
        "            data = data.transpose(1, 2)\n",
        "\n",
        "            outputs = model(data, lr, action)\n",
        "\n",
        "            loss = loss_fn(outputs, label)\n",
        "            val_loss.append(loss.item())\n",
        "            y_pred = torch.argmax(outputs, dim=1).cpu().detach().numpy()\n",
        "            y_label = torch.argmax(label, dim=1).cpu().detach().numpy()\n",
        "            accuracy.append(accuracy_score(y_pred, y_label))\n",
        "            \n",
        "    val_losses.append(np.mean(val_loss))\n",
        "    val_acc.append(np.mean(accuracy))\n",
        "    \n",
        "torch.save(model.state_dict(), f'./model_{model_idx}.pth')\n",
        "\n",
        "model_idx += 1"
      ],
      "metadata": {
        "colab": {
          "base_uri": "https://localhost:8080/"
        },
        "id": "HRWzMF8roo13",
        "outputId": "a536e7d2-82c8-4ca9-b9b2-6166f1fe755a"
      },
      "execution_count": null,
      "outputs": [
        {
          "output_type": "stream",
          "name": "stderr",
          "text": [
            "100%|██████████| 291/291 [00:19<00:00, 14.60it/s]\n",
            "100%|██████████| 11/11 [00:00<00:00, 26.00it/s]\n",
            "100%|██████████| 291/291 [00:13<00:00, 22.00it/s]\n",
            "100%|██████████| 11/11 [00:00<00:00, 26.87it/s]\n",
            "100%|██████████| 291/291 [00:13<00:00, 22.17it/s]\n",
            "100%|██████████| 11/11 [00:00<00:00, 25.66it/s]\n",
            "100%|██████████| 291/291 [00:12<00:00, 22.50it/s]\n",
            "100%|██████████| 11/11 [00:00<00:00, 26.74it/s]\n",
            "100%|██████████| 291/291 [00:12<00:00, 22.61it/s]\n",
            "100%|██████████| 11/11 [00:00<00:00, 27.50it/s]\n",
            "100%|██████████| 291/291 [00:12<00:00, 22.48it/s]\n",
            "100%|██████████| 11/11 [00:00<00:00, 25.06it/s]\n",
            "100%|██████████| 291/291 [00:13<00:00, 21.89it/s]\n",
            "100%|██████████| 11/11 [00:00<00:00, 24.52it/s]\n",
            "100%|██████████| 291/291 [00:12<00:00, 22.69it/s]\n",
            "100%|██████████| 11/11 [00:00<00:00, 27.57it/s]\n",
            "100%|██████████| 291/291 [00:12<00:00, 22.52it/s]\n",
            "100%|██████████| 11/11 [00:00<00:00, 26.93it/s]\n",
            "100%|██████████| 291/291 [00:12<00:00, 22.50it/s]\n",
            "100%|██████████| 11/11 [00:00<00:00, 26.79it/s]\n",
            "100%|██████████| 291/291 [00:12<00:00, 22.68it/s]\n",
            "100%|██████████| 11/11 [00:00<00:00, 24.70it/s]\n",
            "100%|██████████| 291/291 [00:12<00:00, 22.61it/s]\n",
            "100%|██████████| 11/11 [00:00<00:00, 26.81it/s]\n",
            "100%|██████████| 291/291 [00:12<00:00, 22.70it/s]\n",
            "100%|██████████| 11/11 [00:00<00:00, 23.78it/s]\n",
            "100%|██████████| 291/291 [00:12<00:00, 23.08it/s]\n",
            "100%|██████████| 11/11 [00:00<00:00, 24.07it/s]\n",
            "100%|██████████| 291/291 [00:12<00:00, 22.76it/s]\n",
            "100%|██████████| 11/11 [00:00<00:00, 23.79it/s]\n",
            "100%|██████████| 291/291 [00:12<00:00, 22.52it/s]\n",
            "100%|██████████| 11/11 [00:00<00:00, 24.47it/s]\n",
            "100%|██████████| 291/291 [00:12<00:00, 22.75it/s]\n",
            "100%|██████████| 11/11 [00:00<00:00, 23.71it/s]\n",
            "100%|██████████| 291/291 [00:12<00:00, 22.55it/s]\n",
            "100%|██████████| 11/11 [00:00<00:00, 22.68it/s]\n",
            "100%|██████████| 291/291 [00:12<00:00, 22.58it/s]\n",
            "100%|██████████| 11/11 [00:00<00:00, 24.98it/s]\n",
            "100%|██████████| 291/291 [00:12<00:00, 22.79it/s]\n",
            "100%|██████████| 11/11 [00:00<00:00, 23.91it/s]\n",
            "100%|██████████| 291/291 [00:12<00:00, 22.60it/s]\n",
            "100%|██████████| 11/11 [00:00<00:00, 24.91it/s]\n",
            "100%|██████████| 291/291 [00:12<00:00, 22.70it/s]\n",
            "100%|██████████| 11/11 [00:00<00:00, 22.30it/s]\n",
            "100%|██████████| 291/291 [00:12<00:00, 22.83it/s]\n",
            "100%|██████████| 11/11 [00:00<00:00, 26.78it/s]\n",
            "100%|██████████| 291/291 [00:12<00:00, 22.46it/s]\n",
            "100%|██████████| 11/11 [00:00<00:00, 27.48it/s]\n",
            "100%|██████████| 291/291 [00:12<00:00, 22.57it/s]\n",
            "100%|██████████| 11/11 [00:00<00:00, 27.29it/s]\n",
            "100%|██████████| 291/291 [00:13<00:00, 22.33it/s]\n",
            "100%|██████████| 11/11 [00:00<00:00, 26.83it/s]\n",
            "100%|██████████| 291/291 [00:12<00:00, 22.64it/s]\n",
            "100%|██████████| 11/11 [00:00<00:00, 27.66it/s]\n",
            "100%|██████████| 291/291 [00:12<00:00, 22.42it/s]\n",
            "100%|██████████| 11/11 [00:00<00:00, 27.28it/s]\n",
            "100%|██████████| 291/291 [00:13<00:00, 22.34it/s]\n",
            "100%|██████████| 11/11 [00:00<00:00, 26.24it/s]\n",
            "100%|██████████| 291/291 [00:13<00:00, 21.97it/s]\n",
            "100%|██████████| 11/11 [00:00<00:00, 27.13it/s]\n",
            "100%|██████████| 291/291 [00:12<00:00, 22.74it/s]\n",
            "100%|██████████| 11/11 [00:00<00:00, 26.78it/s]\n",
            "100%|██████████| 291/291 [00:12<00:00, 22.70it/s]\n",
            "100%|██████████| 11/11 [00:00<00:00, 26.38it/s]\n"
          ]
        }
      ]
    },
    {
      "cell_type": "code",
      "source": [
        "torch.save(model.state_dict(), f'./model_{model_idx}.pth')"
      ],
      "metadata": {
        "id": "M8dRvfm5tbiB"
      },
      "execution_count": null,
      "outputs": []
    },
    {
      "cell_type": "code",
      "source": [
        "plt.figure()\n",
        "plt.title('Training and validation losses')\n",
        "plt.plot(train_losses, label='Train loss')\n",
        "plt.plot(val_losses, label='Val loss')\n",
        "plt.xlabel('Iteration')\n",
        "plt.legend()\n",
        "plt.show()\n",
        "\n",
        "plt.figure()\n",
        "plt.title('Training and validation accuracy')\n",
        "plt.plot(train_acc, label='Train acc')\n",
        "plt.plot(val_acc, label='Val acc')\n",
        "plt.xlabel('Iteration')\n",
        "plt.legend()\n",
        "plt.show()"
      ],
      "metadata": {
        "colab": {
          "base_uri": "https://localhost:8080/",
          "height": 573
        },
        "id": "2jbfUuGyu3-x",
        "outputId": "6c7a7f67-ae7e-43da-eb46-5513a6488a6a"
      },
      "execution_count": null,
      "outputs": [
        {
          "output_type": "display_data",
          "data": {
            "text/plain": [
              "<Figure size 432x288 with 1 Axes>"
            ],
            "image/png": "[encoded data removed]"
          },
          "metadata": {
            "needs_background": "light"
          }
        },
        {
          "output_type": "display_data",
          "data": {
            "text/plain": [
              "<Figure size 432x288 with 1 Axes>"
            ],
            "image/png": "[encoded data removed]"
          },
          "metadata": {
            "needs_background": "light"
          }
        }
      ]
    },
    {
      "cell_type": "code",
      "source": [
        "def classification_metrics(y_true, y_pred, binary=True):\n",
        "    conf_mat = confusion_matrix(y_true, y_pred)\n",
        "\n",
        "    if binary:\n",
        "        acc = accuracy_score(y_true, y_pred)\n",
        "        rec = recall_score(y_true, y_pred)\n",
        "        prec = precision_score(y_true, y_pred)\n",
        "        f1 = f1_score(y_true, y_pred)\n",
        "    else:\n",
        "        accuracy = accuracy_score(y_true, y_pred)\n",
        "        recall = recall_score(y_true, y_pred, average='weighted')\n",
        "        precision = precision_score(y_true, y_pred, average='weighted')\n",
        "        f1 = f1_score(y_true, y_pred, average='weighted')\n",
        "\n",
        "    return conf_mat, accuracy, recall, precision, f1"
      ],
      "metadata": {
        "id": "85LAIsrui2WR"
      },
      "execution_count": null,
      "outputs": []
    },
    {
      "cell_type": "code",
      "source": [
        "def test_model_on_dataset(model, dataset_loader, device='cuda'):\n",
        "    y_pred = []\n",
        "    y_label = []\n",
        "\n",
        "    model.eval()\n",
        "    with torch.no_grad():\n",
        "        for batch_id, (data, lr, action, label) in enumerate(tqdm(dataset_loader)):\n",
        "            batch_size = data.size(0)\n",
        "            data, label = data.to(device), label.float().to(device)\n",
        "            lr, action = lr.to(device), action.to(device)\n",
        "            data = data.transpose(1, 2)\n",
        "\n",
        "            outputs = model(data, lr, action)\n",
        "\n",
        "            y_pred.extend(torch.argmax(outputs, dim=1).cpu().detach().numpy())\n",
        "            y_label.extend(torch.argmax(label, dim=1).cpu().detach().numpy())\n",
        "\n",
        "    return classification_metrics(y_label, y_pred, False)"
      ],
      "metadata": {
        "id": "rr1fOFfofniJ"
      },
      "execution_count": null,
      "outputs": []
    },
    {
      "cell_type": "code",
      "source": [
        "NUM_MODELS = 9\n",
        "model_paths = [f'./model_{i}.pth' for i in range(NUM_MODELS)]"
      ],
      "metadata": {
        "id": "aualn83bgbii"
      },
      "execution_count": null,
      "outputs": []
    },
    {
      "cell_type": "code",
      "source": [
        "for j, model_path in enumerate(model_paths):\n",
        "    state_dict = torch.load(model_path)\n",
        "    model = CNN1D(6).to(device)\n",
        "    model.load_state_dict(state_dict)\n",
        "    conf_mat, accuracy, recall, precision, f1 = test_model_on_dataset(model, test_loader)\n",
        "\n",
        "    with open('individual_model_results.json', 'a+') as f:\n",
        "        results = {'model_name': f'model_{j}', 'accuracy': accuracy, 'precision': precision, 'recall': recall, 'f1': f1}\n",
        "        f.write(json.dumps(results) + '\\n')\n"
      ],
      "metadata": {
        "colab": {
          "base_uri": "https://localhost:8080/"
        },
        "id": "PkAcztscS-Gb",
        "outputId": "b3d6e640-574d-4c17-d2e0-8a960a8bbd74"
      },
      "execution_count": null,
      "outputs": [
        {
          "output_type": "stream",
          "name": "stderr",
          "text": [
            "100%|██████████| 31/31 [00:01<00:00, 24.33it/s]\n",
            "100%|██████████| 31/31 [00:01<00:00, 24.69it/s]\n",
            "100%|██████████| 31/31 [00:01<00:00, 25.52it/s]\n",
            "100%|██████████| 31/31 [00:01<00:00, 22.50it/s]\n",
            "100%|██████████| 31/31 [00:01<00:00, 21.32it/s]\n",
            "100%|██████████| 31/31 [00:01<00:00, 23.22it/s]\n",
            "100%|██████████| 31/31 [00:01<00:00, 24.87it/s]\n",
            "100%|██████████| 31/31 [00:01<00:00, 24.94it/s]\n",
            "100%|██████████| 31/31 [00:01<00:00, 25.21it/s]\n"
          ]
        }
      ]
    },
    {
      "cell_type": "code",
      "source": [
        "for j, model_path in enumerate(model_paths):\n",
        "    assert os.path.exists(model_path)\n",
        "    state_dict = torch.load(model_path)\n",
        "\n",
        "    if j == 0:\n",
        "        uniform_soup = {k : v * (1./NUM_MODELS) for k, v in state_dict.items()}\n",
        "    else:\n",
        "        uniform_soup = {k : v * (1./NUM_MODELS) + uniform_soup[k] for k, v in state_dict.items()}\n",
        "    \n",
        "model = CNN1D(6).to(device)\n",
        "model.load_state_dict(uniform_soup)\n",
        "conf_mat, accuracy, recall, precision, f1 = test_model_on_dataset(model, test_loader)\n",
        "with open('soup_results.json', 'a+') as f:\n",
        "    results = {'model_name': f'uniform_soup', 'accuracy': accuracy, 'precision': precision, 'recall': recall, 'f1': f1}\n",
        "    f.write(json.dumps(results) + '\\n')"
      ],
      "metadata": {
        "id": "8esOwKVLgWkj",
        "colab": {
          "base_uri": "https://localhost:8080/"
        },
        "outputId": "5808d9e7-554e-488e-c5f3-290e26f8d2cf"
      },
      "execution_count": null,
      "outputs": [
        {
          "output_type": "stream",
          "name": "stderr",
          "text": [
            "100%|██████████| 31/31 [00:01<00:00, 25.26it/s]\n",
            "/usr/local/lib/python3.9/dist-packages/sklearn/metrics/_classification.py:1344: UndefinedMetricWarning: Precision is ill-defined and being set to 0.0 in labels with no predicted samples. Use `zero_division` parameter to control this behavior.\n",
            "  _warn_prf(average, modifier, msg_start, len(result))\n"
          ]
        }
      ]
    },
    {
      "cell_type": "code",
      "source": [
        "import operator\n",
        "\n",
        "# Sort models by decreasing accuracy on the held-out validation set\n",
        "individual_model_db = pd.read_json('individual_model_results.json', lines=True)\n",
        "individual_model_val_accs = {}\n",
        "for _, row in individual_model_db.iterrows():\n",
        "    individual_model_val_accs[row['model_name']] = row['accuracy']\n",
        "individual_model_val_accs = sorted(individual_model_val_accs.items(), key=operator.itemgetter(1), reverse=True)\n",
        "sorted_models = [x[0] for x in individual_model_val_accs]\n",
        "\n",
        "greedy_soup_ingredients = [sorted_models[0]]\n",
        "greedy_soup_params = torch.load(f'./{sorted_models[0]}.pth')\n",
        "best_val_acc_so_far = individual_model_val_accs[0][1]\n",
        "\n",
        "# Now, iterate through all models and consider adding them to the greedy soup\n",
        "for i in range(1, NUM_MODELS - 1):\n",
        "    new_ingredient_params = torch.load(f'./{sorted_models[i]}.pth')\n",
        "    num_ingredients = len(greedy_soup_ingredients)\n",
        "    potential_greedy_soup_params = {\n",
        "        k : greedy_soup_params[k].clone() * (num_ingredients / (num_ingredients + 1.)) + \n",
        "            new_ingredient_params[k].clone() * (1. / (num_ingredients + 1))\n",
        "        for k in new_ingredient_params\n",
        "    }\n",
        "\n",
        "    # Run the potential greedy soup on the held-out val set\n",
        "    model = CNN1D(6).to(device)\n",
        "    model.load_state_dict(potential_greedy_soup_params)\n",
        "    _, held_out_val_accuracy, _, _, _ = test_model_on_dataset(model, val_loader)\n",
        "\n",
        "    # If accuracy on the held-out val set increases, add the new model to the greedy soup.\n",
        "    print(f'Potential greedy soup val acc {held_out_val_accuracy}, best so far {best_val_acc_so_far}.')\n",
        "    if held_out_val_accuracy > best_val_acc_so_far:\n",
        "        greedy_soup_ingredients.append(sorted_models[i])\n",
        "        best_val_acc_so_far = held_out_val_accuracy\n",
        "        greedy_soup_params = potential_greedy_soup_params\n",
        "        print(f'Adding to soup. New soup is {greedy_soup_ingredients}')\n",
        "\n",
        "model = CNN1D(6).to(device)\n",
        "model.load_state_dict(greedy_soup_params)\n",
        "conf_mat, accuracy, recall, precision, f1 = test_model_on_dataset(model, test_loader)\n",
        "\n",
        "with open('soup_results.json', 'a+') as f:\n",
        "    results = {'model_name': f'greedy_soup', 'accuracy': accuracy, 'precision': precision, 'recall': recall, 'f1': f1}\n",
        "    f.write(json.dumps(results) + '\\n')"
      ],
      "metadata": {
        "id": "3r5la6kziB4e",
        "colab": {
          "base_uri": "https://localhost:8080/"
        },
        "outputId": "a39cc82b-6830-4bf6-fe6e-bb42e373db40"
      },
      "execution_count": null,
      "outputs": [
        {
          "output_type": "stream",
          "name": "stderr",
          "text": [
            "100%|██████████| 11/11 [00:00<00:00, 26.94it/s]\n",
            "/usr/local/lib/python3.9/dist-packages/sklearn/metrics/_classification.py:1344: UndefinedMetricWarning: Precision is ill-defined and being set to 0.0 in labels with no predicted samples. Use `zero_division` parameter to control this behavior.\n",
            "  _warn_prf(average, modifier, msg_start, len(result))\n"
          ]
        },
        {
          "output_type": "stream",
          "name": "stdout",
          "text": [
            "Potential greedy soup val acc 0.21951219512195122, best so far 0.858870967741935.\n"
          ]
        },
        {
          "output_type": "stream",
          "name": "stderr",
          "text": [
            "100%|██████████| 11/11 [00:00<00:00, 25.97it/s]\n",
            "/usr/local/lib/python3.9/dist-packages/sklearn/metrics/_classification.py:1344: UndefinedMetricWarning: Precision is ill-defined and being set to 0.0 in labels with no predicted samples. Use `zero_division` parameter to control this behavior.\n",
            "  _warn_prf(average, modifier, msg_start, len(result))\n"
          ]
        },
        {
          "output_type": "stream",
          "name": "stdout",
          "text": [
            "Potential greedy soup val acc 0.1951219512195122, best so far 0.858870967741935.\n"
          ]
        },
        {
          "output_type": "stream",
          "name": "stderr",
          "text": [
            "100%|██████████| 11/11 [00:00<00:00, 26.12it/s]\n"
          ]
        },
        {
          "output_type": "stream",
          "name": "stdout",
          "text": [
            "Potential greedy soup val acc 0.2073170731707317, best so far 0.858870967741935.\n"
          ]
        },
        {
          "output_type": "stream",
          "name": "stderr",
          "text": [
            "100%|██████████| 11/11 [00:00<00:00, 25.97it/s]\n",
            "/usr/local/lib/python3.9/dist-packages/sklearn/metrics/_classification.py:1344: UndefinedMetricWarning: Precision is ill-defined and being set to 0.0 in labels with no predicted samples. Use `zero_division` parameter to control this behavior.\n",
            "  _warn_prf(average, modifier, msg_start, len(result))\n"
          ]
        },
        {
          "output_type": "stream",
          "name": "stdout",
          "text": [
            "Potential greedy soup val acc 0.17682926829268292, best so far 0.858870967741935.\n"
          ]
        },
        {
          "output_type": "stream",
          "name": "stderr",
          "text": [
            "100%|██████████| 11/11 [00:00<00:00, 25.95it/s]\n",
            "/usr/local/lib/python3.9/dist-packages/sklearn/metrics/_classification.py:1344: UndefinedMetricWarning: Precision is ill-defined and being set to 0.0 in labels with no predicted samples. Use `zero_division` parameter to control this behavior.\n",
            "  _warn_prf(average, modifier, msg_start, len(result))\n"
          ]
        },
        {
          "output_type": "stream",
          "name": "stdout",
          "text": [
            "Potential greedy soup val acc 0.21341463414634146, best so far 0.858870967741935.\n"
          ]
        },
        {
          "output_type": "stream",
          "name": "stderr",
          "text": [
            "100%|██████████| 11/11 [00:00<00:00, 26.50it/s]\n",
            "/usr/local/lib/python3.9/dist-packages/sklearn/metrics/_classification.py:1344: UndefinedMetricWarning: Precision is ill-defined and being set to 0.0 in labels with no predicted samples. Use `zero_division` parameter to control this behavior.\n",
            "  _warn_prf(average, modifier, msg_start, len(result))\n"
          ]
        },
        {
          "output_type": "stream",
          "name": "stdout",
          "text": [
            "Potential greedy soup val acc 0.22560975609756098, best so far 0.858870967741935.\n"
          ]
        },
        {
          "output_type": "stream",
          "name": "stderr",
          "text": [
            "100%|██████████| 11/11 [00:00<00:00, 27.26it/s]\n",
            "/usr/local/lib/python3.9/dist-packages/sklearn/metrics/_classification.py:1344: UndefinedMetricWarning: Precision is ill-defined and being set to 0.0 in labels with no predicted samples. Use `zero_division` parameter to control this behavior.\n",
            "  _warn_prf(average, modifier, msg_start, len(result))\n"
          ]
        },
        {
          "output_type": "stream",
          "name": "stdout",
          "text": [
            "Potential greedy soup val acc 0.23170731707317074, best so far 0.858870967741935.\n"
          ]
        },
        {
          "output_type": "stream",
          "name": "stderr",
          "text": [
            "100%|██████████| 31/31 [00:01<00:00, 25.35it/s]\n"
          ]
        }
      ]
    },
    {
      "cell_type": "code",
      "source": [
        "print(accuracy, recall, precision, f1)\n",
        "disp = ConfusionMatrixDisplay(confusion_matrix=conf_mat)\n",
        "disp.plot()\n",
        "plt.show()"
      ],
      "metadata": {
        "colab": {
          "base_uri": "https://localhost:8080/",
          "height": 296
        },
        "id": "pZNlUaXmiQrQ",
        "outputId": "e24036d1-faf2-4d5b-c9b7-701b020e21f0"
      },
      "execution_count": null,
      "outputs": [
        {
          "output_type": "stream",
          "name": "stdout",
          "text": [
            "0.8689516129032258 0.8689516129032258 0.8800444559272435 0.8693184371556696\n"
          ]
        },
        {
          "output_type": "display_data",
          "data": {
            "text/plain": [
              "<Figure size 432x288 with 2 Axes>"
            ],
            "image/png": "[encoded data removed]"
          },
          "metadata": {
            "needs_background": "light"
          }
        }
      ]
    },
    {
      "cell_type": "code",
      "source": [
        "individual_model_db = pd.read_json('individual_model_results.json', lines=True)\n",
        "soup_model_db = pd.read_json('soup_results.json', lines=True)\n",
        "\n",
        "fig = plt.figure(constrained_layout=True, figsize=(8, 6))\n",
        "ax = fig.subplots()\n",
        "ax.scatter(soup_model_db['accuracy'].values[0], soup_model_db['f1'].values[0], \n",
        "           marker='o', color='C0', s=400, label='Uniform Soup', zorder=10)\n",
        "\n",
        "ax.scatter(soup_model_db['accuracy'].values[1], soup_model_db['f1'].values[1], \n",
        "           marker='*', color='C4', s=400, label='Greedy Soup', zorder=10)\n",
        "\n",
        "ax.scatter(individual_model_db['accuracy'], individual_model_db['f1'], \n",
        "           marker='d', color='C2', s=130, label='Various hyperparameters', zorder=10)\n",
        "\n",
        "ax.set_ylabel('F1-score', fontsize=16)\n",
        "ax.set_xlabel('Accuracy', fontsize=16)\n",
        "ax.grid()\n",
        "ax.legend(fontsize=13)\n",
        "plt.show()"
      ],
      "metadata": {
        "colab": {
          "base_uri": "https://localhost:8080/",
          "height": 457
        },
        "id": "cuHwHYT8Z1KQ",
        "outputId": "e0b5a277-a844-4421-b903-62874f8fae75"
      },
      "execution_count": null,
      "outputs": [
        {
          "output_type": "display_data",
          "data": {
            "text/plain": [
              "<Figure size 576x432 with 1 Axes>"
            ],
            "image/png": "[encoded data removed]"
          },
          "metadata": {
            "needs_background": "light"
          }
        }
      ]
    }
  ]
}