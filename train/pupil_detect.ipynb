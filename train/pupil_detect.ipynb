{
  "nbformat": 4,
  "nbformat_minor": 0,
  "metadata": {
    "colab": {
      "provenance": []
    },
    "kernelspec": {
      "name": "python3",
      "display_name": "Python 3"
    },
    "language_info": {
      "name": "python"
    },
    "accelerator": "GPU",
    "gpuClass": "standard"
  },
  "cells": [
    {
      "cell_type": "code",
      "source": [
        "# !unzip '/content/drive/MyDrive/Colab Notebooks/LPW.zip' -d '/content/drive/MyDrive/Colab Notebooks/LPW' "
      ],
      "metadata": {
        "id": "cxbfD2ZusSYB"
      },
      "execution_count": null,
      "outputs": []
    },
    {
      "cell_type": "code",
      "execution_count": null,
      "metadata": {
        "id": "-CJ36kD1abQW",
        "colab": {
          "base_uri": "https://localhost:8080/"
        },
        "outputId": "bbeec34e-0872-4e4b-d17c-4df0f11b63a9"
      },
      "outputs": [
        {
          "output_type": "stream",
          "name": "stdout",
          "text": [
            "Cloning into 'Pupil-locator'...\n",
            "remote: Enumerating objects: 538, done.\u001b[K\n",
            "remote: Counting objects: 100% (7/7), done.\u001b[K\n",
            "remote: Compressing objects: 100% (7/7), done.\u001b[K\n",
            "remote: Total 538 (delta 2), reused 0 (delta 0), pack-reused 531\u001b[K\n",
            "Receiving objects: 100% (538/538), 69.26 MiB | 14.27 MiB/s, done.\n",
            "Resolving deltas: 100% (350/350), done.\n",
            "/content/Pupil-locator\n"
          ]
        }
      ],
      "source": [
        "!git clone https://github.com/isohrab/Pupil-locator.git\n",
        "%cd Pupil-locator"
      ]
    },
    {
      "cell_type": "code",
      "source": [
        "import argparse\n",
        "import os\n",
        "import time\n",
        "\n",
        "import albumentations as A\n",
        "import cv2\n",
        "import matplotlib.pyplot as plt\n",
        "import numpy as np\n",
        "import pandas as pd\n",
        "import torch\n",
        "import torch.nn as nn\n",
        "import torch.nn.functional as F\n",
        "import torch.optim as optim\n",
        "import torchvision\n",
        "\n",
        "from albumentations.pytorch import ToTensorV2\n",
        "from glob import glob\n",
        "from sklearn.metrics import accuracy_score\n",
        "from torch.utils.data import Dataset\n",
        "from torchvision import transforms\n",
        "from torchvision.ops import complete_box_iou_loss, distance_box_iou_loss\n",
        "from tqdm import tqdm"
      ],
      "metadata": {
        "id": "8P_Pn582lWWd"
      },
      "execution_count": null,
      "outputs": []
    },
    {
      "cell_type": "code",
      "source": [
        "device = torch.device(\"cuda\") if torch.cuda.is_available() else torch.device(\"cpu\")\n",
        "print(device)"
      ],
      "metadata": {
        "id": "3Wmd4JhmIqo6",
        "colab": {
          "base_uri": "https://localhost:8080/"
        },
        "outputId": "2a217d90-eb38-4e3f-c918-37e09fd77e4a"
      },
      "execution_count": null,
      "outputs": [
        {
          "output_type": "stream",
          "name": "stdout",
          "text": [
            "cuda\n"
          ]
        }
      ]
    },
    {
      "cell_type": "code",
      "source": [
        "transform = A.Compose([\n",
        "    A.CLAHE(p=0.2),\n",
        "    A.Blur(blur_limit=(7, 7), p=0.2),\n",
        "    A.GaussNoise(20, p=0.2),\n",
        "    A.Cutout(num_holes=8, max_h_size=8, max_w_size=8, fill_value=0, p=0.2),\n",
        "    A.Normalize((0.5), (0.5)),\n",
        "    A.Resize(256, 256),\n",
        "    ToTensorV2(),\n",
        "])"
      ],
      "metadata": {
        "id": "NTUxItKDK2P4",
        "colab": {
          "base_uri": "https://localhost:8080/"
        },
        "outputId": "9c8b131a-3ab3-4924-a853-5f6e93f53659"
      },
      "execution_count": null,
      "outputs": [
        {
          "output_type": "stream",
          "name": "stderr",
          "text": [
            "/usr/local/lib/python3.9/dist-packages/albumentations/augmentations/dropout/cutout.py:50: FutureWarning: Cutout has been deprecated. Please use CoarseDropout\n",
            "  warnings.warn(\n"
          ]
        }
      ]
    },
    {
      "cell_type": "code",
      "source": [
        "def rescale_bbox(img, bbox, target_size=256):\n",
        "    y_ = img.shape[0]\n",
        "    x_ = img.shape[1]\n",
        "\n",
        "    x_scale = target_size / x_\n",
        "    y_scale = target_size / y_\n",
        "\n",
        "    x = int(np.round(bbox[0] * x_scale))\n",
        "    y = int(np.round(bbox[1] * y_scale))\n",
        "    r = int(np.round(bbox[2] * x_scale * y_scale))\n",
        "\n",
        "    return (x, y, r)"
      ],
      "metadata": {
        "id": "ZHRTssLRMcIX"
      },
      "execution_count": null,
      "outputs": []
    },
    {
      "cell_type": "code",
      "source": [
        "class LPWDataset(Dataset):\n",
        "    def __init__(self, data_dir, transform=None):\n",
        "        self.data_dir = data_dir\n",
        "        label_file = os.path.join(self.data_dir, 'label.txt')\n",
        "        self.df = pd.read_csv(label_file, sep=',', header=None)\n",
        "        self.image_paths = self.df.iloc[18035: 50000, 0].values\n",
        "        self.bboxes = self.df.iloc[18035: 50000, 1:4].values\n",
        "\n",
        "        self.transform = transform\n",
        "\n",
        "    def __len__(self):\n",
        "        return len(self.image_paths)\n",
        "\n",
        "    def __getitem__(self, idx):\n",
        "        img = cv2.imread(self.image_paths[idx])\n",
        "        img = cv2.cvtColor(img, cv2.COLOR_BGR2RGB)\n",
        "        label = rescale_bbox(img, self.bboxes[idx])\n",
        "        img = self.transform(image=img)['image']\n",
        "        label = torch.FloatTensor(label) / 255\n",
        "        return img, label"
      ],
      "metadata": {
        "id": "50RJSXdKHfD8"
      },
      "execution_count": null,
      "outputs": []
    },
    {
      "cell_type": "code",
      "source": [
        "dataset = LPWDataset('/content/drive/MyDrive/Colab Notebooks/LPW', transform)"
      ],
      "metadata": {
        "id": "UGcMLwhuIlU_"
      },
      "execution_count": null,
      "outputs": []
    },
    {
      "cell_type": "code",
      "source": [
        "train_size = int(0.98 * len(dataset))\n",
        "test_size = len(dataset) - train_size\n",
        "train_dataset, test_dataset = torch.utils.data.random_split(dataset, [train_size, test_size])\n",
        "train_loader = torch.utils.data.DataLoader(train_dataset, batch_size=8, shuffle=True, num_workers=2)\n",
        "test_loader = torch.utils.data.DataLoader(test_dataset, batch_size=8, shuffle=True, num_workers=2)\n",
        "\n",
        "print(len(train_loader), len(test_loader))"
      ],
      "metadata": {
        "id": "olr_XvPGLnSF",
        "colab": {
          "base_uri": "https://localhost:8080/"
        },
        "outputId": "a8b4ba42-5149-4811-98af-5964e1fc9fb3"
      },
      "execution_count": null,
      "outputs": [
        {
          "output_type": "stream",
          "name": "stdout",
          "text": [
            "3916 80\n"
          ]
        }
      ]
    },
    {
      "cell_type": "code",
      "source": [
        "def draw_bbox(img, bbox):\n",
        "    temp = (img.copy() * 255).astype(np.uint8)\n",
        "    bbox = bbox * 255\n",
        "    cv2.drawMarker(temp, (int(bbox[0]), int(bbox[1])), (0, 255, 0), cv2.MARKER_CROSS, 12, 1)\n",
        "    temp = cv2.circle(temp, (int(bbox[0]), int(bbox[1])), int(bbox[2]), (0, 255, 0), 1)\n",
        "    return temp"
      ],
      "metadata": {
        "id": "xMy43sEj2_Cg"
      },
      "execution_count": null,
      "outputs": []
    },
    {
      "cell_type": "code",
      "source": [
        "model = torch.hub.load('NVIDIA/DeepLearningExamples:torchhub', 'nvidia_efficientnet_b0', pretrained=True)\n",
        "model.classifier.fc = nn.Linear(1280, 3)\n",
        "\n",
        "model = model.to(device)"
      ],
      "metadata": {
        "id": "1Ain0_3n3Bz9",
        "colab": {
          "base_uri": "https://localhost:8080/"
        },
        "outputId": "00db201a-c3e2-4d4d-c6f1-30e3d93d84ba"
      },
      "execution_count": null,
      "outputs": [
        {
          "output_type": "stream",
          "name": "stderr",
          "text": [
            "Using cache found in /root/.cache/torch/hub/NVIDIA_DeepLearningExamples_torchhub\n"
          ]
        }
      ]
    },
    {
      "cell_type": "code",
      "source": [
        "def iou_loss(outputs, label):\n",
        "    boxes1 = torch.stack([\n",
        "        outputs[:, 0] - outputs[:, 2],\n",
        "        outputs[:, 1] - outputs[:, 2],\n",
        "        outputs[:, 0] + outputs[:, 2],\n",
        "        outputs[:, 1] + outputs[:, 2]], dim=1)\n",
        "    boxes2 = torch.stack([\n",
        "        label[:, 0] - label[:, 2],\n",
        "        label[:, 1] - label[:, 2],\n",
        "        label[:, 0] + label[:, 2],\n",
        "        label[:, 1] + label[:, 2]], dim=1)\n",
        "    loss = complete_box_iou_loss(boxes1, boxes2)\n",
        "    return loss.mean()\n",
        "\n",
        "\n",
        "optimizer = optim.Adam(model.parameters(), lr=0.003, betas=(0.9, 0.999))\n",
        "huber_loss = nn.HuberLoss()"
      ],
      "metadata": {
        "id": "vcGO21ax3DG-"
      },
      "execution_count": null,
      "outputs": []
    },
    {
      "cell_type": "code",
      "source": [
        "train_losses, val_losses = [], []\n",
        "train_acc, val_acc = [], []\n",
        "\n",
        "for epoch in range(8):\n",
        "    train_loss = []\n",
        "    model.train()\n",
        "    for batch_id, (data, label) in enumerate(tqdm(train_loader)):\n",
        "        with torch.set_grad_enabled(True):\n",
        "            if torch.cuda.is_available():\n",
        "                torch.cuda.empty_cache()\n",
        "\n",
        "            batch_size = data.size(0)\n",
        "            data, label = data.to(device), label.to(device)\n",
        "            optimizer.zero_grad()\n",
        "\n",
        "            outputs = model(data)\n",
        "\n",
        "            loss = huber_loss(outputs, label) + iou_loss(outputs, label)\n",
        "\n",
        "            loss.backward(retain_graph=True)\n",
        "            optimizer.step()\n",
        "\n",
        "            train_loss.append(loss.item())\n",
        "\n",
        "    train_losses.append(np.mean(train_loss))\n",
        "\n",
        "    val_loss = []\n",
        "    model.eval()\n",
        "    for batch_id, (data, label) in enumerate(tqdm(test_loader)):\n",
        "        with torch.set_grad_enabled(False):\n",
        "            if torch.cuda.is_available():\n",
        "                torch.cuda.empty_cache()\n",
        "\n",
        "            batch_size = data.size(0)\n",
        "            data, label = data.to(device), label.to(device)\n",
        "\n",
        "            outputs = model(data)\n",
        "\n",
        "            loss = huber_loss(outputs, label) + iou_loss(outputs, label)\n",
        "            val_loss.append(loss.item())\n",
        "            print('Loss', loss.item())\n",
        "\n",
        "        if batch_id % 20 == 0:\n",
        "            try:\n",
        "                img = data[0].permute(1, 2, 0).cpu().detach().numpy() * 0.5 + 0.5\n",
        "                # plt.subplot(121)\n",
        "                bbox = outputs[0].cpu().detach().numpy()\n",
        "                plt.imshow(draw_bbox(img, bbox))\n",
        "                plt.axis('off')\n",
        "                # plt.subplot(122)\n",
        "                plt.figure()\n",
        "                bbox = label[0].cpu().detach().numpy()\n",
        "                plt.imshow(draw_bbox(img, bbox))\n",
        "                plt.axis('off')\n",
        "                plt.show()\n",
        "            except:\n",
        "                pass\n",
        "    val_losses.append(np.mean(val_loss))"
      ],
      "metadata": {
        "colab": {
          "base_uri": "https://localhost:8080/"
        },
        "id": "VvKwYgF53GwS",
        "outputId": "e0f8c20f-2f45-4b6f-8314-f424854014ff"
      },
      "execution_count": null,
      "outputs": [
        {
          "output_type": "stream",
          "name": "stderr",
          "text": [
            " 35%|███▌      | 1390/3916 [04:23<07:02,  5.98it/s]"
          ]
        }
      ]
    },
    {
      "cell_type": "code",
      "source": [
        "model.eval()\n",
        "\n",
        "accuracy = []\n",
        "for epsilon in range(1, 20):\n",
        "    fuck = []\n",
        "    you = []\n",
        "    for batch_id, (data, label) in enumerate(tqdm(test_loader)):\n",
        "        with torch.set_grad_enabled(False):\n",
        "            if torch.cuda.is_available():\n",
        "                torch.cuda.empty_cache()\n",
        "\n",
        "            batch_size = data.size(0)\n",
        "            data, label = data.to(device), label.to(device)\n",
        "\n",
        "            outputs = model(data)\n",
        "\n",
        "            outputs = outputs.cpu().detach().numpy()\n",
        "            label = label.cpu().detach().numpy()\n",
        "\n",
        "            error = np.abs(outputs - label) * 255\n",
        "\n",
        "            fuck.append(np.count_nonzero(error))\n",
        "            you.append(np.count_nonzero(error < epsilon))\n",
        "    accuracy.append(np.sum(you) / np.sum(fuck))"
      ],
      "metadata": {
        "colab": {
          "base_uri": "https://localhost:8080/"
        },
        "id": "njK-SYRCFvkD",
        "outputId": "87b3f85b-15ed-48f5-f5f7-6799c37eb6cb"
      },
      "execution_count": null,
      "outputs": [
        {
          "output_type": "stream",
          "name": "stderr",
          "text": [
            "100%|██████████| 80/80 [00:09<00:00,  8.31it/s]\n",
            "100%|██████████| 80/80 [00:12<00:00,  6.33it/s]\n",
            "100%|██████████| 80/80 [00:11<00:00,  6.79it/s]\n",
            "100%|██████████| 80/80 [00:10<00:00,  7.95it/s]\n",
            "100%|██████████| 80/80 [00:11<00:00,  6.77it/s]\n",
            "100%|██████████| 80/80 [00:11<00:00,  6.71it/s]\n",
            "100%|██████████| 80/80 [00:11<00:00,  6.77it/s]\n",
            "100%|██████████| 80/80 [00:10<00:00,  7.49it/s]\n",
            "100%|██████████| 80/80 [00:12<00:00,  6.39it/s]\n",
            "100%|██████████| 80/80 [00:12<00:00,  6.53it/s]\n",
            "100%|██████████| 80/80 [00:10<00:00,  7.78it/s]\n",
            "100%|██████████| 80/80 [00:11<00:00,  7.11it/s]\n",
            "100%|██████████| 80/80 [00:12<00:00,  6.48it/s]\n",
            "100%|██████████| 80/80 [00:11<00:00,  7.19it/s]\n",
            "100%|██████████| 80/80 [00:11<00:00,  7.17it/s]\n",
            "100%|██████████| 80/80 [00:12<00:00,  6.20it/s]\n",
            "100%|██████████| 80/80 [00:12<00:00,  6.45it/s]\n",
            "100%|██████████| 80/80 [00:10<00:00,  7.28it/s]\n",
            "100%|██████████| 80/80 [00:11<00:00,  7.10it/s]\n"
          ]
        }
      ]
    },
    {
      "cell_type": "code",
      "source": [
        "plt.plot(np.arange(5, 15), accuracy[9:])\n",
        "plt.xlabel('Threshold epsilon')\n",
        "plt.ylabel('Accuracy')"
      ],
      "metadata": {
        "colab": {
          "base_uri": "https://localhost:8080/",
          "height": 312
        },
        "id": "4qY9wTgTHb62",
        "outputId": "6826fdd0-d747-42ae-e558-d9b75f0ea25b"
      },
      "execution_count": null,
      "outputs": [
        {
          "output_type": "execute_result",
          "data": {
            "text/plain": [
              "Text(0.5, 1.0, 'Detection accuracy')"
            ]
          },
          "metadata": {},
          "execution_count": 51
        },
        {
          "output_type": "display_data",
          "data": {
            "text/plain": [
              "<Figure size 432x288 with 1 Axes>"
            ],
            "image/png": "[encoded data removed]"
          },
          "metadata": {
            "needs_background": "light"
          }
        }
      ]
    },
    {
      "cell_type": "code",
      "source": [
        "plt.figure()\n",
        "plt.title('Training and validation losses')\n",
        "plt.plot(np.array(train_losses) * 3, label='Train loss')\n",
        "plt.plot(val_losses, label='Val loss')\n",
        "plt.xlabel('Iteration')\n",
        "plt.legend()\n",
        "plt.show()"
      ],
      "metadata": {
        "id": "mBJCGyScQZEO",
        "colab": {
          "base_uri": "https://localhost:8080/",
          "height": 295
        },
        "outputId": "2536928d-5a09-472e-e1bc-ed9471b318f5"
      },
      "execution_count": null,
      "outputs": [
        {
          "output_type": "display_data",
          "data": {
            "text/plain": [
              "<Figure size 432x288 with 1 Axes>"
            ],
            "image/png": "[encoded data removed]"
          },
          "metadata": {
            "needs_background": "light"
          }
        }
      ]
    },
    {
      "cell_type": "code",
      "source": [
        "torch.save(model.state_dict(), 'model2.pth')"
      ],
      "metadata": {
        "id": "LFJcdyQtUgYm"
      },
      "execution_count": null,
      "outputs": []
    },
    {
      "cell_type": "code",
      "source": [
        "1/0"
      ],
      "metadata": {
        "id": "quHAPOZQFmMC"
      },
      "execution_count": null,
      "outputs": []
    },
    {
      "cell_type": "code",
      "source": [
        "import tensorflow.compat.v1 as tf\n",
        "from config import config\n",
        "from logger import Logger\n",
        "from models import Simple, NASNET, Inception, GAP, YOLO\n",
        "from utils import annotator, change_channel, gray_normalizer\n",
        "tf.disable_v2_behavior()\n",
        "\n",
        "def crop_frame(frame):\n",
        "    if len(frame.shape) == 2:\n",
        "        w, h = frame.shape\n",
        "    else:\n",
        "        w, h, c = frame.shape\n",
        "\n",
        "    left = frame[0:w // 2, 0:h // 2]\n",
        "    right = frame[0:w // 2, h // 2:]\n",
        "    return left, right\n",
        "\n",
        "def load_model(session, m_type, m_name, logger):\n",
        "    # load the weights based on best loss\n",
        "    best_dir = \"best_loss\"\n",
        "\n",
        "    # check model dir\n",
        "    model_path = \"./models/\" + m_name\n",
        "    path = os.path.join(model_path, best_dir)\n",
        "    print(path)\n",
        "    if not os.path.exists(path):\n",
        "        raise FileNotFoundError\n",
        "\n",
        "    if m_type == \"simple\":\n",
        "        model = Simple(m_name, config, logger)\n",
        "    elif m_type == \"YOLO\":\n",
        "        model = YOLO(m_name, config, logger)\n",
        "    elif m_type == \"GAP\":\n",
        "        model = GAP(m_name, config, logger)\n",
        "    elif m_type == \"NAS\":\n",
        "        model = NASNET(m_name, config, logger)\n",
        "    elif m_type == \"INC\":\n",
        "        model = Inception(m_name, config, logger)\n",
        "    else:\n",
        "        raise ValueError\n",
        "\n",
        "    # load the best saved weights\n",
        "    ckpt = tf.train.get_checkpoint_state(path)\n",
        "    if ckpt and tf.train.checkpoint_exists(ckpt.model_checkpoint_path):\n",
        "        logger.log('Reloading model parameters..')\n",
        "        model.restore(session, ckpt.model_checkpoint_path)\n",
        "\n",
        "    else:\n",
        "        raise ValueError('There is no best model with given model')\n",
        "\n",
        "    return model\n",
        "\n",
        "\n",
        "def rescale(image):\n",
        "    \"\"\"\n",
        "    If the input video is other than network size, it will resize the input video\n",
        "    :param image: a frame form input video\n",
        "    :return: scaled down frame\n",
        "    \"\"\"\n",
        "    scale_side = max(image.shape)\n",
        "    # image width and height are equal to 192\n",
        "    scale_value = config[\"input_width\"] / scale_side\n",
        "\n",
        "    # scale down or up the input image\n",
        "    scaled_image = cv2.resize(image, dsize=None, fx=scale_value, fy=scale_value)\n",
        "\n",
        "    # convert to numpy array\n",
        "    scaled_image = np.asarray(scaled_image, dtype=np.uint8)\n",
        "\n",
        "    # one of pad should be zero\n",
        "    w_pad = int((config[\"input_width\"] - scaled_image.shape[1]) / 2)\n",
        "    h_pad = int((config[\"input_width\"] - scaled_image.shape[0]) / 2)\n",
        "\n",
        "    # create a new image with size of: (config[\"image_width\"], config[\"image_height\"])\n",
        "    new_image = np.ones((config[\"input_width\"], config[\"input_height\"]), dtype=np.uint8) * 250\n",
        "\n",
        "    # put the scaled image in the middle of new image\n",
        "    new_image[h_pad:h_pad + scaled_image.shape[0], w_pad:w_pad + scaled_image.shape[1]] = scaled_image\n",
        "\n",
        "    return new_image\n",
        "\n",
        "\n",
        "def upscale_preds(_preds, _shapes):\n",
        "    \"\"\"\n",
        "    Get the predictions and upscale them to original size of video\n",
        "    :param preds:\n",
        "    :param shapes:\n",
        "    :return: upscales x and y\n",
        "    \"\"\"\n",
        "    # we need to calculate the pads to remove them from predicted labels\n",
        "    pad_side = np.max(_shapes)\n",
        "    # image width and height are equal to 384\n",
        "    downscale_value = config[\"input_width\"] / pad_side\n",
        "\n",
        "    scaled_height = _shapes[0] * downscale_value\n",
        "    scaled_width = _shapes[1] * downscale_value\n",
        "\n",
        "    # one of pad should be zero\n",
        "    w_pad = (config[\"input_width\"] - scaled_width) / 2\n",
        "    h_pad = (config[\"input_width\"] - scaled_height) / 2\n",
        "\n",
        "    # remove the pas from predicted label\n",
        "    x = _preds[0] - w_pad\n",
        "    y = _preds[1] - h_pad\n",
        "    w = _preds[2]\n",
        "\n",
        "    # calculate the upscale value\n",
        "    upscale_value = pad_side / config[\"input_height\"]\n",
        "\n",
        "    # upscale preds\n",
        "    x = x * upscale_value\n",
        "    y = y * upscale_value\n",
        "    w = w * upscale_value\n",
        "\n",
        "    return x, y, w"
      ],
      "metadata": {
        "id": "C-wvFSh6P6H9"
      },
      "execution_count": null,
      "outputs": []
    },
    {
      "cell_type": "code",
      "source": [
        "model_name = \"3A4Bh-Ref25\"\n",
        "model_type = \"INC\"\n",
        "\n",
        "save_dir = '/content/drive/MyDrive/Colab Notebooks/LPW/LPWImages'\n",
        "save_dir1 = '/content/drive/MyDrive/Colab Notebooks/LPW/'\n",
        "data_dir = '/content/drive/MyDrive/Colab Notebooks/LPW/LPW/'\n",
        "\n",
        "# initial a logger\n",
        "logger = Logger(model_type, model_name, \"\", config, dir=\"models/\")\n",
        "logger.log(\"Start inferring model...\")\n",
        "tf.reset_default_graph()\n",
        "with tf.Session() as sess:\n",
        "    try:\n",
        "       tf.reset_default_graph() \n",
        "    except Exception:\n",
        "        pass\n",
        "    model = load_model(sess, model_type, model_name, logger)\n",
        "    cnt = 0\n",
        "    f1 = open(os.path.join(save_dir1, 'label.txt'), 'w+')\n",
        "    for video_path in glob(os.path.join(data_dir, '*/*.avi')):\n",
        "        label_file = video_path.replace('.avi', '.txt')\n",
        "        print(video_path)\n",
        "        cap = cv2.VideoCapture(video_path)\n",
        "        f2 = open(label_file, 'r')\n",
        "\n",
        "        while cap.isOpened():\n",
        "            ret, frame1 = cap.read()\n",
        "            if not ret:\n",
        "                break\n",
        "            try:\n",
        "                frame = cv2.cvtColor(frame1, cv2.COLOR_BGR2GRAY)\n",
        "                f_shape = frame.shape\n",
        "                if frame.shape[0] != 192:\n",
        "                    frame = rescale(frame)\n",
        "\n",
        "                image = gray_normalizer(frame)\n",
        "                image = change_channel(image, config[\"input_channel\"])\n",
        "                [p] = model.predict(sess, [image])\n",
        "                x, y, w = upscale_preds(p, f_shape)\n",
        "                \n",
        "                line = f2.readline().strip().split(' ')\n",
        "                coordinates = [int(float(x)) for x in line]\n",
        "                cv2.imwrite(os.path.join(save_dir, f'{cnt:06d}.jpg'), frame1)\n",
        "                f1.write(f'{os.path.join(save_dir, f\"{cnt:06d}.jpg\")},{coordinates[0]},{coordinates[1]},{w},{x},{y}\\n')\n",
        "                cnt += 1\n",
        "            except Exception as e:\n",
        "                print(e)\n",
        "\n",
        "        cap.release()\n",
        "        f2.close()\n",
        "    f1.close()"
      ],
      "metadata": {
        "id": "f8HHeF1Glbow"
      },
      "execution_count": null,
      "outputs": []
    }
  ]
}