{
  "cells": [
    {
      "cell_type": "code",
      "source": [
        "!pip install vit-pytorch"
      ],
      "metadata": {
        "colab": {
          "base_uri": "https://localhost:8080/"
        },
        "id": "kXQKMBhZs9M6",
        "outputId": "badf1b42-2860-49da-ebfb-9430e7e94e1a"
      },
      "execution_count": null,
      "outputs": [
        {
          "output_type": "stream",
          "name": "stdout",
          "text": [
            "Looking in indexes: https://pypi.org/simple, https://us-python.pkg.dev/colab-wheels/public/simple/\n",
            "Collecting vit-pytorch\n",
            "  Downloading vit_pytorch-1.2.0-py3-none-any.whl (87 kB)\n",
            "\u001b[2K     \u001b[90m━━━━━━━━━━━━━━━━━━━━━━━━━━━━━━━━━━━━━━━━\u001b[0m \u001b[32m87.2/87.2 KB\u001b[0m \u001b[31m6.9 MB/s\u001b[0m eta \u001b[36m0:00:00\u001b[0m\n",
            "\u001b[?25hCollecting einops>=0.6.0\n",
            "  Downloading einops-0.6.0-py3-none-any.whl (41 kB)\n",
            "\u001b[2K     \u001b[90m━━━━━━━━━━━━━━━━━━━━━━━━━━━━━━━━━━━━━━━━\u001b[0m \u001b[32m41.6/41.6 KB\u001b[0m \u001b[31m5.5 MB/s\u001b[0m eta \u001b[36m0:00:00\u001b[0m\n",
            "\u001b[?25hRequirement already satisfied: torch>=1.10 in /usr/local/lib/python3.9/dist-packages (from vit-pytorch) (1.13.1+cu116)\n",
            "Requirement already satisfied: torchvision in /usr/local/lib/python3.9/dist-packages (from vit-pytorch) (0.14.1+cu116)\n",
            "Requirement already satisfied: typing-extensions in /usr/local/lib/python3.9/dist-packages (from torch>=1.10->vit-pytorch) (4.5.0)\n",
            "Requirement already satisfied: requests in /usr/local/lib/python3.9/dist-packages (from torchvision->vit-pytorch) (2.27.1)\n",
            "Requirement already satisfied: pillow!=8.3.*,>=5.3.0 in /usr/local/lib/python3.9/dist-packages (from torchvision->vit-pytorch) (8.4.0)\n",
            "Requirement already satisfied: numpy in /usr/local/lib/python3.9/dist-packages (from torchvision->vit-pytorch) (1.22.4)\n",
            "Requirement already satisfied: charset-normalizer~=2.0.0 in /usr/local/lib/python3.9/dist-packages (from requests->torchvision->vit-pytorch) (2.0.12)\n",
            "Requirement already satisfied: urllib3<1.27,>=1.21.1 in /usr/local/lib/python3.9/dist-packages (from requests->torchvision->vit-pytorch) (1.26.15)\n",
            "Requirement already satisfied: certifi>=2017.4.17 in /usr/local/lib/python3.9/dist-packages (from requests->torchvision->vit-pytorch) (2022.12.7)\n",
            "Requirement already satisfied: idna<4,>=2.5 in /usr/local/lib/python3.9/dist-packages (from requests->torchvision->vit-pytorch) (3.4)\n",
            "Installing collected packages: einops, vit-pytorch\n",
            "Successfully installed einops-0.6.0 vit-pytorch-1.2.0\n"
          ]
        }
      ]
    },
    {
      "cell_type": "code",
      "source": [
        "import argparse\n",
        "import json\n",
        "import os\n",
        "import time\n",
        "\n",
        "import cv2\n",
        "import matplotlib.pyplot as plt\n",
        "import numpy as np\n",
        "import pandas as pd\n",
        "import torch\n",
        "import torch.nn as nn\n",
        "import torch.nn.functional as F\n",
        "import torch.optim as optim\n",
        "import torchvision\n",
        "\n",
        "from glob import glob\n",
        "from sklearn.metrics import precision_recall_curve, roc_curve, auc, accuracy_score, f1_score, precision_score, recall_score, confusion_matrix\n",
        "from sklearn.metrics import confusion_matrix, ConfusionMatrixDisplay\n",
        "from torch.utils.data import Dataset\n",
        "from torchvision import transforms\n",
        "from tqdm import tqdm\n",
        "from vit_pytorch.simple_vit_3d import SimpleViT\n",
        "from vit_pytorch.vivit import ViT"
      ],
      "metadata": {
        "id": "sPY8HpeXugLC"
      },
      "execution_count": null,
      "outputs": []
    },
    {
      "cell_type": "code",
      "source": [
        "device = torch.device(\"cuda\") if torch.cuda.is_available() else torch.device(\"cpu\")\n",
        "print(device)"
      ],
      "metadata": {
        "colab": {
          "base_uri": "https://localhost:8080/"
        },
        "id": "tBOj9lO7u9zJ",
        "outputId": "8691bd65-9c9a-445c-cf18-abac325ba0d5"
      },
      "execution_count": null,
      "outputs": [
        {
          "output_type": "stream",
          "name": "stdout",
          "text": [
            "cuda\n"
          ]
        }
      ]
    },
    {
      "cell_type": "code",
      "source": [
        "transform = transforms.Compose([\n",
        "    transforms.ToTensor(),\n",
        "    transforms.Resize((128, 128)),\n",
        "    transforms.GaussianBlur(5),\n",
        "    transforms.RandomAutocontrast(0.3),\n",
        "    transforms.Normalize((0.5), (0.5)),\n",
        "    transforms.RandomAffine(degrees=(-10, 10), translate=(0.1, 0.1), scale=(0.8, 1.2)),\n",
        "])"
      ],
      "metadata": {
        "id": "Z-4Ccgf6xSCg"
      },
      "execution_count": null,
      "outputs": []
    },
    {
      "cell_type": "code",
      "source": [
        "class CustomDataset(Dataset):\n",
        "    def __init__(self, data_dir, transform=None, class_weights=None):\n",
        "        self.data_dir = data_dir\n",
        "        self.class_map = {\"Lt_Apo_BPPV\" : 0, \"Lt_Geo_BPPV\": 1, \"Lt_PC_BPPV\" : 2, \"Rt_Apo_BPPV\": 3, \"Rt_Geo_BPPV\" : 4, \"Rt_PC_BPPV\": 5}\n",
        "\n",
        "        self.data = []\n",
        "        classes = glob(self.data_dir + \"/*\")\n",
        "        for class_path in classes:\n",
        "            class_name = class_path.split(\"/\")[-1]\n",
        "            for video_path in glob(class_path + \"/*.*\"):\n",
        "                cap = cv2.VideoCapture(video_path)\n",
        "                if int(cap.get(cv2.CAP_PROP_FRAME_COUNT)) < 100:\n",
        "                    continue\n",
        "                else:\n",
        "                    if class_weights is not None:\n",
        "                        class_weights /= np.max(class_weights)\n",
        "                        if np.random.uniform() < class_weights[self.class_map[class_name]]:\n",
        "                            self.data.append([video_path, class_name])\n",
        "                    else:\n",
        "                        self.data.append([video_path, class_name])\n",
        "                cap.release()\n",
        "        self.transform = transform\n",
        "\n",
        "    def __len__(self):\n",
        "        return len(self.data)\n",
        "    \n",
        "    def _random_shift(self, data):\n",
        "        if np.random.uniform() < 0.8:\n",
        "            data = np.roll(data, np.random.randint(100), axis=0)\n",
        "        return data[:100, :, :, :]\n",
        "\n",
        "    def __getitem__(self, index):\n",
        "        video_path, class_name = self.data[index]\n",
        "        cap = cv2.VideoCapture(video_path)\n",
        "        data = []\n",
        "\n",
        "        state = torch.get_rng_state()\n",
        "        while cap.isOpened():\n",
        "            ret, crop = cap.read()\n",
        "            if not ret:\n",
        "                break\n",
        "            crop = cv2.cvtColor(crop, cv2.COLOR_BGR2RGB)\n",
        "            torch.set_rng_state(state)\n",
        "            crop = self.transform(crop)\n",
        "            data.append(crop)\n",
        "        \n",
        "        cap.release()\n",
        "\n",
        "        data = np.stack(data)\n",
        "        data = self._random_shift(data)\n",
        "        data = torch.FloatTensor(data).transpose(0, 1)\n",
        "\n",
        "        lr = torch.Tensor([0 if os.path.basename(video_path)[13] == 'l' else 1])\n",
        "\n",
        "        action = F.one_hot(torch.Tensor([int(os.path.basename(video_path)[15]) - 1]).long(), 7)\n",
        "\n",
        "        label = F.one_hot(torch.Tensor([self.class_map[class_name]]).long(), 6)\n",
        "\n",
        "        return data.squeeze(), lr, action.squeeze(), label.squeeze()"
      ],
      "metadata": {
        "id": "hz23B2KtvDgq"
      },
      "execution_count": null,
      "outputs": []
    },
    {
      "cell_type": "code",
      "source": [
        "import collections\n",
        "data_path = '/content/drive/MyDrive/Colab Notebooks/dataset'\n",
        "dataset = CustomDataset(data_path, transform)\n",
        "\n",
        "train_size = int(0.8 * len(dataset))\n",
        "val_size = int(0.05 * len(dataset))\n",
        "test_size = len(dataset) - train_size - val_size\n",
        "\n",
        "train_dataset, val_dataset, test_dataset = torch.utils.data.random_split(dataset, [train_size, val_size, test_size], generator=torch.Generator().manual_seed(0))\n",
        "\n",
        "train_classes = [torch.argmax(label).cpu().detach().numpy().item() for _, _, _, label in train_dataset]\n",
        "class_count = collections.Counter(train_classes)\n",
        "class_count = collections.OrderedDict(sorted(class_count.items()))\n",
        "class_weights = [sum(class_count.values()) / v for k, v in class_count.items()]\n",
        "class_weights[1] = 0\n",
        "class_weights[0] = 0.3\n",
        "print(class_count)\n",
        "\n",
        "augmented_dataset = CustomDataset(data_path, transform, class_weights)\n",
        "train_dataset = torch.utils.data.ConcatDataset([train_dataset, augmented_dataset])\n",
        "train_classes = [torch.argmax(label).cpu().detach().numpy().item() for _, _, _, label in train_dataset]\n",
        "class_count = collections.Counter(train_classes)\n",
        "class_count = collections.OrderedDict(sorted(class_count.items()))\n",
        "print(class_count)"
      ],
      "metadata": {
        "colab": {
          "base_uri": "https://localhost:8080/"
        },
        "id": "Jz2kGTtNyeCU",
        "outputId": "60918b49-dc1e-4108-d133-bffe183edf89"
      },
      "execution_count": null,
      "outputs": [
        {
          "output_type": "stream",
          "name": "stdout",
          "text": [
            "OrderedDict([(0, 353), (1, 469), (2, 116), (3, 230), (4, 190), (5, 165)])\n",
            "OrderedDict([(0, 364), (1, 469), (2, 256), (3, 372), (4, 338), (5, 308)])\n"
          ]
        }
      ]
    },
    {
      "cell_type": "code",
      "source": [
        "train_loader = torch.utils.data.DataLoader(train_dataset, batch_size=1, shuffle=True)\n",
        "val_loader = torch.utils.data.DataLoader(val_dataset, batch_size=1, shuffle=True)\n",
        "test_loader = torch.utils.data.DataLoader(test_dataset, batch_size=1, shuffle=True)\n",
        "\n",
        "print(len(train_loader), len(val_loader), len(test_loader))"
      ],
      "metadata": {
        "colab": {
          "base_uri": "https://localhost:8080/"
        },
        "id": "hqGWSDkPIgXJ",
        "outputId": "e2576764-c52f-4151-adfa-be3da09b5b88"
      },
      "execution_count": null,
      "outputs": [
        {
          "output_type": "stream",
          "name": "stdout",
          "text": [
            "2107 95 286\n"
          ]
        }
      ]
    },
    {
      "cell_type": "code",
      "source": [
        "class ViVIT(nn.Module):\n",
        "    def __init__(self, out_features):\n",
        "        super().__init__()\n",
        "\n",
        "        self.backbone = ViT(\n",
        "            image_size = 128,\n",
        "            frames = 100,\n",
        "            image_patch_size = 16,\n",
        "            frame_patch_size = 2,\n",
        "            num_classes = 128,\n",
        "            dim = 128,\n",
        "            spatial_depth = 2,\n",
        "            temporal_depth = 5,\n",
        "            heads = 2,\n",
        "            mlp_dim = 256\n",
        "        )\n",
        "\n",
        "        self.fc = nn.Linear(in_features=128 + 7 + 1, out_features=out_features, bias=True)\n",
        "\n",
        "    def forward(self, data, lr, action):\n",
        "        x = self.backbone(data)\n",
        "        x = torch.hstack([x, lr, action])\n",
        "        x = self.fc(x)\n",
        "        return x"
      ],
      "metadata": {
        "id": "KrolEGU-kEed"
      },
      "execution_count": null,
      "outputs": []
    },
    {
      "cell_type": "code",
      "source": [
        "model = ViVIT(6).to(device)\n",
        "model.load_state_dict(torch.load('vivit.pth'))\n",
        "\n",
        "optimizer = optim.Adam(model.parameters(), lr=0.0001, betas=(0.9, 0.999))\n",
        "scheduler = optim.lr_scheduler.CosineAnnealingWarmRestarts(optimizer, 1000)\n",
        "\n",
        "loss_fn = nn.CrossEntropyLoss(label_smoothing=0.1)"
      ],
      "metadata": {
        "id": "T5efKaasygdg"
      },
      "execution_count": null,
      "outputs": []
    },
    {
      "cell_type": "code",
      "source": [
        "torch.cuda.empty_cache()"
      ],
      "metadata": {
        "id": "K1Lyw_QFObYb"
      },
      "execution_count": null,
      "outputs": []
    },
    {
      "cell_type": "code",
      "source": [
        "train_losses, val_losses = [], []\n",
        "train_acc, val_acc = [], []\n",
        "\n",
        "for epoch in range(6):\n",
        "    train_loss = []\n",
        "    accuracy = []\n",
        "    model.train()\n",
        "    for batch_id, (data, lr, action, label) in enumerate(tqdm(train_loader)):\n",
        "        if torch.cuda.is_available():\n",
        "            torch.cuda.empty_cache()\n",
        "\n",
        "        batch_size = data.size(0)\n",
        "        data, label = data.to(device), label.float().to(device)\n",
        "        lr, action = lr.to(device), action.to(device)\n",
        "\n",
        "        optimizer.zero_grad()\n",
        "\n",
        "        outputs = model(data, lr, action)\n",
        "\n",
        "        loss = loss_fn(outputs, label)\n",
        "\n",
        "        loss.backward(retain_graph=True)\n",
        "        optimizer.step()\n",
        "        scheduler.step(epoch + batch_id / len(train_loader))\n",
        "\n",
        "        train_loss.append(loss.item())\n",
        "        y_pred = torch.argmax(outputs, dim=1).cpu().detach().numpy()\n",
        "        y_label = torch.argmax(label, dim=1).cpu().detach().numpy()\n",
        "\n",
        "        accuracy.append(accuracy_score(y_pred, y_label))\n",
        "\n",
        "        if batch_id % 500 == 0:\n",
        "            print(loss.item())\n",
        "\n",
        "    train_losses.append(np.mean(train_loss))\n",
        "    train_acc.append(np.mean(accuracy))\n",
        "\n",
        "    val_loss = []\n",
        "    accuracy = []\n",
        "    model.eval()\n",
        "    for batch_id, (data, lr, action, label) in enumerate(tqdm(val_loader)):\n",
        "        with torch.set_grad_enabled(False):\n",
        "            if torch.cuda.is_available():\n",
        "                torch.cuda.empty_cache()\n",
        "\n",
        "            batch_size = data.size(0)\n",
        "            data, label = data.to(device), label.float().to(device)\n",
        "            lr, action = lr.to(device), action.to(device)\n",
        "\n",
        "            outputs = model(data, lr, action)\n",
        "\n",
        "            loss = loss_fn(outputs, label)\n",
        "            val_loss.append(loss.item())\n",
        "            y_pred = torch.argmax(outputs, dim=1).cpu().detach().numpy()\n",
        "            y_label = torch.argmax(label, dim=1).cpu().detach().numpy()\n",
        "            accuracy.append(accuracy_score(y_pred, y_label))\n",
        "\n",
        "    print(np.mean(val_loss))\n",
        "    val_losses.append(np.mean(val_loss))\n",
        "    val_acc.append(np.mean(accuracy))"
      ],
      "metadata": {
        "colab": {
          "base_uri": "https://localhost:8080/",
          "height": 571
        },
        "id": "jeX7ljJVtDXU",
        "outputId": "3173343b-4ce1-4a6d-83b9-860a06f4b62e"
      },
      "execution_count": null,
      "outputs": [
        {
          "output_type": "stream",
          "name": "stderr",
          "text": [
            "  0%|          | 1/2107 [00:00<11:17,  3.11it/s]"
          ]
        },
        {
          "output_type": "stream",
          "name": "stdout",
          "text": [
            "0.4265097677707672\n"
          ]
        },
        {
          "output_type": "stream",
          "name": "stderr",
          "text": [
            " 24%|██▍       | 501/2107 [02:45<13:13,  2.02it/s]"
          ]
        },
        {
          "output_type": "stream",
          "name": "stdout",
          "text": [
            "0.44179755449295044\n"
          ]
        },
        {
          "output_type": "stream",
          "name": "stderr",
          "text": [
            " 48%|████▊     | 1001/2107 [05:31<06:09,  2.99it/s]"
          ]
        },
        {
          "output_type": "stream",
          "name": "stdout",
          "text": [
            "0.483614057302475\n"
          ]
        },
        {
          "output_type": "stream",
          "name": "stderr",
          "text": [
            " 71%|███████   | 1501/2107 [08:17<02:53,  3.50it/s]"
          ]
        },
        {
          "output_type": "stream",
          "name": "stdout",
          "text": [
            "0.430397629737854\n"
          ]
        },
        {
          "output_type": "stream",
          "name": "stderr",
          "text": [
            " 95%|█████████▍| 2001/2107 [11:01<00:44,  2.39it/s]"
          ]
        },
        {
          "output_type": "stream",
          "name": "stdout",
          "text": [
            "0.4413849711418152\n"
          ]
        },
        {
          "output_type": "stream",
          "name": "stderr",
          "text": [
            "100%|██████████| 2107/2107 [11:38<00:00,  3.02it/s]\n",
            "100%|██████████| 95/95 [00:29<00:00,  3.20it/s]\n"
          ]
        },
        {
          "output_type": "stream",
          "name": "stdout",
          "text": [
            "0.933464507052773\n"
          ]
        },
        {
          "output_type": "stream",
          "name": "stderr",
          "text": [
            "  0%|          | 1/2107 [00:00<10:21,  3.39it/s]"
          ]
        },
        {
          "output_type": "stream",
          "name": "stdout",
          "text": [
            "3.131775379180908\n"
          ]
        },
        {
          "output_type": "stream",
          "name": "stderr",
          "text": [
            "  1%|          | 13/2107 [00:04<11:13,  3.11it/s]\n"
          ]
        },
        {
          "output_type": "error",
          "ename": "KeyboardInterrupt",
          "evalue": "ignored",
          "traceback": [
            "\u001b[0;31m---------------------------------------------------------------------------\u001b[0m",
            "\u001b[0;31mKeyboardInterrupt\u001b[0m                         Traceback (most recent call last)",
            "\u001b[0;32m<ipython-input-18-919fcdace7b4>\u001b[0m in \u001b[0;36m<module>\u001b[0;34m\u001b[0m\n\u001b[1;32m     20\u001b[0m         \u001b[0mloss\u001b[0m \u001b[0;34m=\u001b[0m \u001b[0mloss_fn\u001b[0m\u001b[0;34m(\u001b[0m\u001b[0moutputs\u001b[0m\u001b[0;34m,\u001b[0m \u001b[0mlabel\u001b[0m\u001b[0;34m)\u001b[0m\u001b[0;34m\u001b[0m\u001b[0;34m\u001b[0m\u001b[0m\n\u001b[1;32m     21\u001b[0m \u001b[0;34m\u001b[0m\u001b[0m\n\u001b[0;32m---> 22\u001b[0;31m         \u001b[0mloss\u001b[0m\u001b[0;34m.\u001b[0m\u001b[0mbackward\u001b[0m\u001b[0;34m(\u001b[0m\u001b[0mretain_graph\u001b[0m\u001b[0;34m=\u001b[0m\u001b[0;32mTrue\u001b[0m\u001b[0;34m)\u001b[0m\u001b[0;34m\u001b[0m\u001b[0;34m\u001b[0m\u001b[0m\n\u001b[0m\u001b[1;32m     23\u001b[0m         \u001b[0moptimizer\u001b[0m\u001b[0;34m.\u001b[0m\u001b[0mstep\u001b[0m\u001b[0;34m(\u001b[0m\u001b[0;34m)\u001b[0m\u001b[0;34m\u001b[0m\u001b[0;34m\u001b[0m\u001b[0m\n\u001b[1;32m     24\u001b[0m         \u001b[0mscheduler\u001b[0m\u001b[0;34m.\u001b[0m\u001b[0mstep\u001b[0m\u001b[0;34m(\u001b[0m\u001b[0mepoch\u001b[0m \u001b[0;34m+\u001b[0m \u001b[0mbatch_id\u001b[0m \u001b[0;34m/\u001b[0m \u001b[0mlen\u001b[0m\u001b[0;34m(\u001b[0m\u001b[0mtrain_loader\u001b[0m\u001b[0;34m)\u001b[0m\u001b[0;34m)\u001b[0m\u001b[0;34m\u001b[0m\u001b[0;34m\u001b[0m\u001b[0m\n",
            "\u001b[0;32m/usr/local/lib/python3.9/dist-packages/torch/_tensor.py\u001b[0m in \u001b[0;36mbackward\u001b[0;34m(self, gradient, retain_graph, create_graph, inputs)\u001b[0m\n\u001b[1;32m    486\u001b[0m                 \u001b[0minputs\u001b[0m\u001b[0;34m=\u001b[0m\u001b[0minputs\u001b[0m\u001b[0;34m,\u001b[0m\u001b[0;34m\u001b[0m\u001b[0;34m\u001b[0m\u001b[0m\n\u001b[1;32m    487\u001b[0m             )\n\u001b[0;32m--> 488\u001b[0;31m         torch.autograd.backward(\n\u001b[0m\u001b[1;32m    489\u001b[0m             \u001b[0mself\u001b[0m\u001b[0;34m,\u001b[0m \u001b[0mgradient\u001b[0m\u001b[0;34m,\u001b[0m \u001b[0mretain_graph\u001b[0m\u001b[0;34m,\u001b[0m \u001b[0mcreate_graph\u001b[0m\u001b[0;34m,\u001b[0m \u001b[0minputs\u001b[0m\u001b[0;34m=\u001b[0m\u001b[0minputs\u001b[0m\u001b[0;34m\u001b[0m\u001b[0;34m\u001b[0m\u001b[0m\n\u001b[1;32m    490\u001b[0m         )\n",
            "\u001b[0;32m/usr/local/lib/python3.9/dist-packages/torch/autograd/__init__.py\u001b[0m in \u001b[0;36mbackward\u001b[0;34m(tensors, grad_tensors, retain_graph, create_graph, grad_variables, inputs)\u001b[0m\n\u001b[1;32m    195\u001b[0m     \u001b[0;31m# some Python versions print out the first line of a multi-line function\u001b[0m\u001b[0;34m\u001b[0m\u001b[0;34m\u001b[0m\u001b[0m\n\u001b[1;32m    196\u001b[0m     \u001b[0;31m# calls in the traceback and some print out the last line\u001b[0m\u001b[0;34m\u001b[0m\u001b[0;34m\u001b[0m\u001b[0m\n\u001b[0;32m--> 197\u001b[0;31m     Variable._execution_engine.run_backward(  # Calls into the C++ engine to run the backward pass\n\u001b[0m\u001b[1;32m    198\u001b[0m         \u001b[0mtensors\u001b[0m\u001b[0;34m,\u001b[0m \u001b[0mgrad_tensors_\u001b[0m\u001b[0;34m,\u001b[0m \u001b[0mretain_graph\u001b[0m\u001b[0;34m,\u001b[0m \u001b[0mcreate_graph\u001b[0m\u001b[0;34m,\u001b[0m \u001b[0minputs\u001b[0m\u001b[0;34m,\u001b[0m\u001b[0;34m\u001b[0m\u001b[0;34m\u001b[0m\u001b[0m\n\u001b[1;32m    199\u001b[0m         allow_unreachable=True, accumulate_grad=True)  # Calls into the C++ engine to run the backward pass\n",
            "\u001b[0;31mKeyboardInterrupt\u001b[0m: "
          ]
        }
      ]
    },
    {
      "cell_type": "code",
      "source": [
        "plt.figure()\n",
        "plt.title('Training and validation losses')\n",
        "plt.plot(train_losses, label='Train loss')\n",
        "plt.plot(val_losses, label='Val loss')\n",
        "plt.xlabel('Iteration')\n",
        "plt.legend()\n",
        "plt.show()\n",
        "\n",
        "plt.figure()\n",
        "plt.title('Training and validation accuracy')\n",
        "plt.plot(train_acc, label='Train acc')\n",
        "plt.plot(val_acc, label='Val acc')\n",
        "plt.xlabel('Iteration')\n",
        "plt.legend()\n",
        "plt.show()"
      ],
      "metadata": {
        "colab": {
          "base_uri": "https://localhost:8080/",
          "height": 573
        },
        "id": "OSO7Szt0j0Uq",
        "outputId": "27ef4285-e134-4dcc-eda0-c4a00566dcc4"
      },
      "execution_count": null,
      "outputs": [
        {
          "output_type": "display_data",
          "data": {
            "text/plain": [
              "<Figure size 432x288 with 1 Axes>"
            ],
            "image/png": "[encoded data removed]"
          },
          "metadata": {
            "needs_background": "light"
          }
        },
        {
          "output_type": "display_data",
          "data": {
            "text/plain": [
              "<Figure size 432x288 with 1 Axes>"
            ],
            "image/png": "[encoded data removed]"
          },
          "metadata": {
            "needs_background": "light"
          }
        }
      ]
    },
    {
      "cell_type": "code",
      "source": [
        "torch.save(model.state_dict(), f'./vivit.pth')"
      ],
      "metadata": {
        "id": "L7tjnGeu5dxd"
      },
      "execution_count": null,
      "outputs": []
    },
    {
      "cell_type": "code",
      "source": [
        "def classification_metrics(y_true, y_pred, binary=True):\n",
        "    conf_mat = confusion_matrix(y_true, y_pred)\n",
        "\n",
        "    if binary:\n",
        "        acc = accuracy_score(y_true, y_pred)\n",
        "        rec = recall_score(y_true, y_pred)\n",
        "        prec = precision_score(y_true, y_pred)\n",
        "        f1 = f1_score(y_true, y_pred)\n",
        "    else:\n",
        "        accuracy = accuracy_score(y_true, y_pred)\n",
        "        recall = recall_score(y_true, y_pred, average='weighted')\n",
        "        precision = precision_score(y_true, y_pred, average='weighted')\n",
        "        f1 = f1_score(y_true, y_pred, average='weighted')\n",
        "\n",
        "    return conf_mat, accuracy, recall, precision, f1"
      ],
      "metadata": {
        "id": "OpUKjD7-9cg9"
      },
      "execution_count": null,
      "outputs": []
    },
    {
      "cell_type": "code",
      "source": [
        "\n",
        "y_pred = []\n",
        "y_label = []\n",
        "\n",
        "model.eval()\n",
        "with torch.no_grad():\n",
        "    for batch_id, (data, lr, action, label) in enumerate(tqdm(test_loader)):\n",
        "        batch_size = data.size(0)\n",
        "        data, label = data.to(device), label.float().to(device)\n",
        "        lr, action = lr.to(device), action.to(device)\n",
        "\n",
        "        outputs = model(data, lr, action)\n",
        "\n",
        "        y_pred.extend(torch.argmax(outputs, dim=1).cpu().detach().numpy())\n",
        "        y_label.extend(torch.argmax(label, dim=1).cpu().detach().numpy())\n",
        "\n",
        "print(classification_metrics(y_label, y_pred, False))"
      ],
      "metadata": {
        "colab": {
          "base_uri": "https://localhost:8080/"
        },
        "id": "bhLdhVXZye10",
        "outputId": "df16846c-de26-4f87-bb08-6e35e3fed1a4"
      },
      "execution_count": null,
      "outputs": [
        {
          "output_type": "stream",
          "name": "stderr",
          "text": [
            "100%|██████████| 286/286 [01:31<00:00,  3.12it/s]"
          ]
        },
        {
          "output_type": "stream",
          "name": "stdout",
          "text": [
            "(array([[67,  2,  0,  1,  1,  3],\n",
            "       [ 2, 78,  2,  3,  5,  2],\n",
            "       [ 0,  1, 17,  0,  0,  1],\n",
            "       [ 5,  0,  0, 26,  4,  1],\n",
            "       [ 1,  0,  0,  1, 29,  0],\n",
            "       [ 2,  1,  2,  0,  0, 29]]), 0.8601398601398601, 0.8601398601398601, 0.866840829439796, 0.8604862732779044)\n"
          ]
        },
        {
          "output_type": "stream",
          "name": "stderr",
          "text": [
            "\n"
          ]
        }
      ]
    }
  ],
  "metadata": {
    "colab": {
      "provenance": []
    },
    "kernelspec": {
      "display_name": "Python 3",
      "name": "python3"
    },
    "language_info": {
      "name": "python"
    },
    "accelerator": "GPU",
    "gpuClass": "standard"
  },
  "nbformat": 4,
  "nbformat_minor": 0
}